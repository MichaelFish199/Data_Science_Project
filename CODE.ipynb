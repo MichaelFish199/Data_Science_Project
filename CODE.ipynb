{
 "cells": [
  {
   "cell_type": "code",
   "execution_count": 1,
   "id": "aed6d777",
   "metadata": {},
   "outputs": [],
   "source": [
    "import numpy as np\n",
    "import pandas as pd\n",
    "import seaborn as sns\n",
    "import random as rdm"
   ]
  },
  {
   "cell_type": "code",
   "execution_count": 2,
   "id": "55087bf1",
   "metadata": {},
   "outputs": [
    {
     "name": "stdout",
     "output_type": "stream",
     "text": [
      "       HeartDisease    BMI Smoking AlcoholDrinking Stroke  PhysicalHealth  \\\n",
      "0                No  16.60     Yes              No     No             3.0   \n",
      "1                No  20.34      No              No    Yes             0.0   \n",
      "2                No  26.58     Yes              No     No            20.0   \n",
      "3                No  24.21      No              No     No             0.0   \n",
      "4                No  23.71      No              No     No            28.0   \n",
      "...             ...    ...     ...             ...    ...             ...   \n",
      "319790          Yes  27.41     Yes              No     No             7.0   \n",
      "319791           No  29.84     Yes              No     No             0.0   \n",
      "319792           No  24.24      No              No     No             0.0   \n",
      "319793           No  32.81      No              No     No             0.0   \n",
      "319794           No  46.56      No              No     No             0.0   \n",
      "\n",
      "        MentalHealth DiffWalking     Sex  AgeCategory      Race Diabetic  \\\n",
      "0               30.0          No  Female        55-59     White      Yes   \n",
      "1                0.0          No  Female  80 or older     White       No   \n",
      "2               30.0          No    Male        65-69     White      Yes   \n",
      "3                0.0          No  Female        75-79     White       No   \n",
      "4                0.0         Yes  Female        40-44     White       No   \n",
      "...              ...         ...     ...          ...       ...      ...   \n",
      "319790           0.0         Yes    Male        60-64  Hispanic      Yes   \n",
      "319791           0.0          No    Male        35-39  Hispanic       No   \n",
      "319792           0.0          No  Female        45-49  Hispanic       No   \n",
      "319793           0.0          No  Female        25-29  Hispanic       No   \n",
      "319794           0.0          No  Female  80 or older  Hispanic       No   \n",
      "\n",
      "       PhysicalActivity  GenHealth  SleepTime Asthma KidneyDisease SkinCancer  \n",
      "0                   Yes  Very good        5.0    Yes            No        Yes  \n",
      "1                   Yes  Very good        7.0     No            No         No  \n",
      "2                   Yes       Fair        8.0    Yes            No         No  \n",
      "3                    No       Good        6.0     No            No        Yes  \n",
      "4                   Yes  Very good        8.0     No            No         No  \n",
      "...                 ...        ...        ...    ...           ...        ...  \n",
      "319790               No       Fair        6.0    Yes            No         No  \n",
      "319791              Yes  Very good        5.0    Yes            No         No  \n",
      "319792              Yes       Good        6.0     No            No         No  \n",
      "319793               No       Good       12.0     No            No         No  \n",
      "319794              Yes       Good        8.0     No            No         No  \n",
      "\n",
      "[319795 rows x 18 columns]\n"
     ]
    }
   ],
   "source": [
    "ds = pd.read_csv('heart_2020_cleaned.csv')\n",
    "print(ds)"
   ]
  },
  {
   "cell_type": "code",
   "execution_count": 8,
   "id": "542143ac",
   "metadata": {},
   "outputs": [
    {
     "name": "stdout",
     "output_type": "stream",
     "text": [
      "HeartDisease            No\n",
      "BMI                  32.49\n",
      "Smoking                Yes\n",
      "AlcoholDrinking        Yes\n",
      "Stroke                  No\n",
      "PhysicalHealth         1.0\n",
      "MentalHealth           3.0\n",
      "DiffWalking             No\n",
      "Sex                 Female\n",
      "AgeCategory          55-59\n",
      "Race                 White\n",
      "Diabetic                No\n",
      "PhysicalActivity        No\n",
      "GenHealth             Good\n",
      "SleepTime              8.0\n",
      "Asthma                  No\n",
      "KidneyDisease           No\n",
      "SkinCancer              No\n",
      "Name: 71877, dtype: object\n"
     ]
    }
   ],
   "source": [
    "testowaosoba = ds.iloc[rdm.randint(0,319794)]\n",
    "print(testowaosoba)"
   ]
  },
  {
   "cell_type": "code",
   "execution_count": null,
   "id": "32eb801e",
   "metadata": {},
   "outputs": [],
   "source": []
  }
 ],
 "metadata": {
  "kernelspec": {
   "display_name": "Python 3 (ipykernel)",
   "language": "python",
   "name": "python3"
  },
  "language_info": {
   "codemirror_mode": {
    "name": "ipython",
    "version": 3
   },
   "file_extension": ".py",
   "mimetype": "text/x-python",
   "name": "python",
   "nbconvert_exporter": "python",
   "pygments_lexer": "ipython3",
   "version": "3.9.7"
  }
 },
 "nbformat": 4,
 "nbformat_minor": 5
}
